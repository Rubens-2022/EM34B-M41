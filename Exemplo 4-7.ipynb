{
 "cells": [
  {
   "cell_type": "markdown",
   "metadata": {},
   "source": [
    "Exemplo 4.7 - O vapor d'água entra no condensador de uma instalação de potêcia a vapor $0,1 \\; [bar]$ e $ 45 \\left[ ^\\circ C \\right]$. A água de resfriamento entra no condensador com um fluxo na forma líquida a $20 [ ^\\circ C]$ e sai como líquido a $35 [ ^\\circ C]$ sem nenhuma variação de pressão. A transferência de calor no exterior do condensador e as variações de energias cinética e potencial dos fluxos podem ser ignoradas. Para uma operação em regime permanente, determine:\n",
    "\n",
    "    a.) a razão entre a vazão mássica da água de resfriamento pela vazão mássica do vapor d'água e\n",
    "    b.) a taxa de transferência de energia do vapor d'água que se condensa para a água de resfriamento em $ \\left[ \\frac{kJ}{kg} \\rigth] $ de vapor que escoa através do condensador.\n"
   ]
  },
  {
   "cell_type": "code",
   "execution_count": null,
   "metadata": {},
   "outputs": [],
   "source": [
    "pip install CoolProp"
   ]
  },
  {
   "cell_type": "code",
   "execution_count": 21,
   "metadata": {},
   "outputs": [],
   "source": [
    "from CoolProp.CoolProp import PropsSI as cp\n",
    "Fluido = \"Water\""
   ]
  },
  {
   "cell_type": "code",
   "execution_count": 2,
   "metadata": {},
   "outputs": [
    {
     "data": {
      "image/png": "[encoded data removed]",
      "text/plain": [
       "<IPython.core.display.Image object>"
      ]
     },
     "execution_count": 2,
     "metadata": {},
     "output_type": "execute_result"
    }
   ],
   "source": [
    "from IPython.display import Image\n",
    "Image (\"Fig 1.png\")"
   ]
  },
  {
   "cell_type": "markdown",
   "metadata": {},
   "source": [
    "Estado inicial:"
   ]
  },
  {
   "cell_type": "code",
   "execution_count": 32,
   "metadata": {},
   "outputs": [
    {
     "name": "stdout",
     "output_type": "stream",
     "text": [
      "h_1 = 2464.2560 [kJ/kg]\n",
      "h_3 = 83.9141 [kJ/kg]\n"
     ]
    }
   ],
   "source": [
    "P_1 = 10e3 #Pressão de entrada do vapor d'água no trocador de calor, [Pa]\n",
    "x_1 = 0.95 #Título do vapor d'água entrando no trocador de calor\n",
    "T_age = 20 + 273.15 #Temperatura da água de resfriamento entrando no trocador de calor, [K]\n",
    "h_1 = cp(\"H\",\"P\",P_1,\"Q\",x_1,Fluido)*1e-3 #Entalpia do vapor d'água na entrada em [kJ/kg]\n",
    "h_3 = cp(\"H\",\"T\",T_age,\"Q\",0,Fluido)*1e-3 #Entalpia da água de resfriamento na entrada em [kJ/kg]\n",
    "print(\"h_1 = \" \"%.4f\" % h_1, \"[kJ/kg]\")\n",
    "print(\"h_3 = \" \"%.4f\" % h_3, \"[kJ/kg]\")"
   ]
  },
  {
   "cell_type": "markdown",
   "metadata": {},
   "source": [
    "Estado final:"
   ]
  },
  {
   "cell_type": "code",
   "execution_count": 31,
   "metadata": {},
   "outputs": [
    {
     "name": "stdout",
     "output_type": "stream",
     "text": [
      "h_2 = 188.4351 [kJ/kg]\n",
      "h_4 = 146.6339 [kJ/kg]\n"
     ]
    }
   ],
   "source": [
    "T_2 = 45 + 273.15 #Temperatura do vapor d'água saindo do trocador de calor, [K]\n",
    "P_2 = 10e3 #Pressão de saída do vapor d'água saindo do trocador de calor, [Pa]\n",
    "T_ags = 35 + 273.15 #Temperatura da água de resfriamento saindo do trocador de calor [K]\n",
    "h_2 = cp(\"H\",\"P\",P_2,\"T\",T_2,Fluido)*1e-3 #Entalpia do vapor d'água na saída, [kj/kg]\n",
    "h_4 = cp(\"H\",\"Q\",0,\"T\",T_ags,Fluido)*1e-3 #Entalpia da água de resfriamento na saida [kJ/kg]\n",
    "print(\"h_2 = \" \"%.4f\" %h_2, \"[kJ/kg]\" )\n",
    "print(\"h_4 = \" \"%.4f\" %h_4, \"[kJ/kg]\" )"
   ]
  },
  {
   "cell_type": "markdown",
   "metadata": {},
   "source": [
    "Representação do processo em um diagrama Txv"
   ]
  },
  {
   "cell_type": "code",
   "execution_count": 9,
   "metadata": {},
   "outputs": [
    {
     "data": {
      "image/png": "[encoded data removed]",
      "text/plain": [
       "<IPython.core.display.Image object>"
      ]
     },
     "execution_count": 9,
     "metadata": {},
     "output_type": "execute_result"
    }
   ],
   "source": [
    "from IPython.display import Image\n",
    "Image (\"Fig 2.png\")"
   ]
  },
  {
   "cell_type": "markdown",
   "metadata": {},
   "source": [
    "Cálculo da razão entre as vazões mássicas do vapor d'água e da água de resfriamento."
   ]
  },
  {
   "cell_type": "code",
   "execution_count": 34,
   "metadata": {},
   "outputs": [
    {
     "name": "stdout",
     "output_type": "stream",
     "text": [
      "Razão = 36.2856\n"
     ]
    }
   ],
   "source": [
    "razao = (h_2-h_1)/(h_3-h_4)\n",
    "print(\"Razão = \" \"%.4f\" % razao)"
   ]
  },
  {
   "cell_type": "markdown",
   "metadata": {},
   "source": [
    "Calculo do calor transferido do vapor d'água para a água de resfriamento em [kJ/kg]"
   ]
  },
  {
   "cell_type": "code",
   "execution_count": 38,
   "metadata": {},
   "outputs": [
    {
     "name": "stdout",
     "output_type": "stream",
     "text": [
      "O calor transferido do vapor d'água para a água de resfriamento é: -2275.8209 [kJ/kg] o sinal negativo significa que o calor está deixando o volume de controle.\n"
     ]
    }
   ],
   "source": [
    "q = h_2 - h_1\n",
    "print(\"O calor transferido do vapor d'água para a água de resfriamento é: \" \"%.4f\" %q , \"[kJ/kg]\", \"o sinal negativo significa que o calor está deixando o volume de controle.\")"
   ]
  }
 ],
 "metadata": {
  "kernelspec": {
   "display_name": "Python 3.10.7 64-bit",
   "language": "python",
   "name": "python3"
  },
  "language_info": {
   "codemirror_mode": {
    "name": "ipython",
    "version": 3
   },
   "file_extension": ".py",
   "mimetype": "text/x-python",
   "name": "python",
   "nbconvert_exporter": "python",
   "pygments_lexer": "ipython3",
   "version": "3.10.7"
  },
  "orig_nbformat": 4,
  "vscode": {
   "interpreter": {
    "hash": "8e3105560c81ae39e0834f5867d71e8b951b6beb57a3746bf5585c30fcba755d"
   }
  }
 },
 "nbformat": 4,
 "nbformat_minor": 2
}
